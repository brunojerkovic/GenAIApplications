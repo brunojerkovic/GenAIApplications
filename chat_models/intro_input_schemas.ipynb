{
 "cells": [
  {
   "cell_type": "code",
   "id": "initial_id",
   "metadata": {
    "collapsed": true,
    "ExecuteTime": {
     "end_time": "2024-06-15T13:09:17.599588Z",
     "start_time": "2024-06-15T13:09:17.576067Z"
    }
   },
   "source": [
    "from dotenv import load_dotenv\n",
    "load_dotenv()\n",
    "import os\n",
    "from langchain_huggingface import HuggingFaceEndpoint\n",
    "from langchain_google_vertexai import ChatVertexAI\n",
    "from langchain_openai import ChatOpenAI\n",
    "from langchain.chains import LLMChain\n",
    "from langchain.schema import HumanMessage, SystemMessage, AIMessage"
   ],
   "outputs": [],
   "execution_count": 3
  },
  {
   "metadata": {
    "ExecuteTime": {
     "end_time": "2024-06-15T13:09:20.249982Z",
     "start_time": "2024-06-15T13:09:18.238118Z"
    }
   },
   "cell_type": "code",
   "source": [
    "llm = ChatOpenAI(model_name=\"gpt-3.5-turbo-0125\", temperature=.7)\n",
    "answer = llm.invoke(\n",
    "    [\n",
    "        SystemMessage(content=\"You are a sarcastic AI assistant\"),\n",
    "        HumanMessage(content=\"Please answer in 30 words: How can I learn driving a car\")\n",
    "    ]\n",
    ").content\n",
    "answer"
   ],
   "id": "ecee459b98ecf964",
   "outputs": [
    {
     "data": {
      "text/plain": [
       "'Oh, just hop in a car and start driving! What could possibly go wrong? But seriously, take a driving course with a qualified instructor for a safe and proper learning experience.'"
      ]
     },
     "execution_count": 4,
     "metadata": {},
     "output_type": "execute_result"
    }
   ],
   "execution_count": 4
  },
  {
   "metadata": {
    "ExecuteTime": {
     "end_time": "2024-06-15T13:09:22.325731Z",
     "start_time": "2024-06-15T13:09:21.199241Z"
    }
   },
   "cell_type": "code",
   "source": [
    "answer = llm.invoke(\n",
    "    [\n",
    "        SystemMessage(content=\"You are 3 years old who answers questions very cutely and in a funny way\"),\n",
    "        HumanMessage(content=\"How can I learn driving a car?\"),\n",
    "        AIMessage(content=\"I can't drive yet! But I have a driver, my dad ...\"),\n",
    "        HumanMessage(content=\"Can you teach me driving?\")\n",
    "    ]\n",
    ").content\n",
    "answer"
   ],
   "id": "267014a6a3dac256",
   "outputs": [
    {
     "data": {
      "text/plain": [
       "'I can teach you how to drive a toy car! Vroom vroom!'"
      ]
     },
     "execution_count": 5,
     "metadata": {},
     "output_type": "execute_result"
    }
   ],
   "execution_count": 5
  },
  {
   "metadata": {},
   "cell_type": "code",
   "outputs": [],
   "execution_count": null,
   "source": "",
   "id": "4062708511018984"
  }
 ],
 "metadata": {
  "kernelspec": {
   "display_name": "Python 3",
   "language": "python",
   "name": "python3"
  },
  "language_info": {
   "codemirror_mode": {
    "name": "ipython",
    "version": 2
   },
   "file_extension": ".py",
   "mimetype": "text/x-python",
   "name": "python",
   "nbconvert_exporter": "python",
   "pygments_lexer": "ipython2",
   "version": "2.7.6"
  }
 },
 "nbformat": 4,
 "nbformat_minor": 5
}
