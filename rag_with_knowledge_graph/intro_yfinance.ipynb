{
 "cells": [
  {
   "metadata": {},
   "cell_type": "markdown",
   "source": "# Intro to *yfinance*",
   "id": "f7457ee5f0c2fd4a"
  },
  {
   "cell_type": "code",
   "id": "initial_id",
   "metadata": {
    "collapsed": true,
    "ExecuteTime": {
     "end_time": "2024-07-05T11:16:07.744089Z",
     "start_time": "2024-07-05T11:16:07.712787Z"
    }
   },
   "source": [
    "import yfinance as yf\n",
    "import pandas as pd\n",
    "import ta"
   ],
   "execution_count": 23,
   "outputs": []
  },
  {
   "metadata": {
    "ExecuteTime": {
     "end_time": "2024-07-05T11:33:44.256055Z",
     "start_time": "2024-07-05T11:33:44.224775Z"
    }
   },
   "cell_type": "code",
   "source": [
    "class StockData:\n",
    "    def __init__(self, ticker_symbols, start_date=\"2001-01-01\", end_date=\"2024-07-01\", period=\"1d\"):\n",
    "        self.ticker_symbols = ticker_symbols\n",
    "        self.start_date = start_date\n",
    "        self.end_date = end_date\n",
    "        self.period = period\n",
    "        self.datasets = {ticker_symbol: self.__get_data(ticker_symbol) for ticker_symbol in ticker_symbols}\n",
    "        \n",
    "    def __get_data(self, ticker_symbol) -> pd.DataFrame:\n",
    "        ticket = yf.Ticker(ticker_symbol)\n",
    "        historical_data = ticket.history(start=self.start_date, end=self.end_date, period=self.period)[[\"Open\", \"High\", \"Low\", \"Close\", \"Volume\"]]\n",
    "        historical_data = self.__calculate_technical_indicators(historical_data)\n",
    "        \n",
    "        return historical_data\n",
    "    \n",
    "    def __calculate_technical_indicators(self, df) -> pd.DataFrame:\n",
    "        \"\"\"\n",
    "        Calculates popular technical indicators using OHLCV data.\n",
    "    \n",
    "        Parameters:\n",
    "        - df (DataFrame): DataFrame containing OHLCV data (columns: ['Open', 'High', 'Low', 'Close', 'Volume']).\n",
    "    \n",
    "        Returns:\n",
    "        - DataFrame: DataFrame with added columns for each calculated technical indicator.\n",
    "        \"\"\"\n",
    "        # Simple Moving Average (SMA)\n",
    "        df['SMA_20'] = ta.trend.sma_indicator(close=df['Close'], window=20)\n",
    "        \n",
    "        # Exponential Moving Average (EMA)\n",
    "        df['EMA_50'] = ta.trend.ema_indicator(close=df['Close'], window=50)\n",
    "        \n",
    "        # Relative Strength Index (RSI)\n",
    "        df['RSI_14'] = ta.momentum.rsi(close=df['Close'], window=14)\n",
    "        \n",
    "        # Calculate the 12-period EMA\n",
    "        df['EMA12'] = df['Close'].ewm(span=12, adjust=False).mean()\n",
    "        \n",
    "        # Calculate the 26-period EMA\n",
    "        df['EMA26'] = df['Close'].ewm(span=26, adjust=False).mean()\n",
    "        \n",
    "        # Calculate MACD (the difference between 12-period EMA and 26-period EMA)\n",
    "        df['MACD'] = df['EMA12'] - df['EMA26']\n",
    "        \n",
    "        # Bollinger Bands\n",
    "        df['BB_Lower'], df['BB_Middle'], df['BB_Upper'] = ta.volatility.bollinger_lband(close=df['Close'], window=20), ta.volatility.bollinger_mavg(close=df['Close'], window=20), ta.volatility.bollinger_hband(close=df['Close'], window=20)\n",
    "        \n",
    "        # Average True Range (ATR)\n",
    "        df['ATR_14'] = ta.volatility.average_true_range(high=df['High'], low=df['Low'], close=df['Close'], window=14)\n",
    "            \n",
    "        # Average Directional Index (ADX)\n",
    "        df['ADX_14'] = ta.trend.adx(high=df['High'], low=df['Low'], close=df['Close'], window=14)\n",
    "        \n",
    "        return df"
   ],
   "id": "efbc5071d8ccf516",
   "execution_count": 57,
   "outputs": []
  },
  {
   "metadata": {
    "ExecuteTime": {
     "end_time": "2024-07-05T11:33:47.100326Z",
     "start_time": "2024-07-05T11:33:46.751060Z"
    }
   },
   "cell_type": "code",
   "source": [
    "data = StockData([\"AAPL\", \"META\"])\n",
    "[d.sum() for d in data.datasets.values()][0]"
   ],
   "id": "94dc1f0d6270100d",
   "execution_count": 58,
   "outputs": []
  },
  {
   "metadata": {},
   "cell_type": "code",
   "execution_count": null,
   "source": "",
   "id": "a224926624fb37a1",
   "outputs": []
  }
 ],
 "metadata": {
  "kernelspec": {
   "display_name": "Python 3",
   "language": "python",
   "name": "python3"
  },
  "language_info": {
   "codemirror_mode": {
    "name": "ipython",
    "version": 2
   },
   "file_extension": ".py",
   "mimetype": "text/x-python",
   "name": "python",
   "nbconvert_exporter": "python",
   "pygments_lexer": "ipython2",
   "version": "2.7.6"
  }
 },
 "nbformat": 4,
 "nbformat_minor": 5
}
