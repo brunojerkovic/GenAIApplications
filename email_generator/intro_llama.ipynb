{
 "cells": [
  {
   "cell_type": "code",
   "id": "initial_id",
   "metadata": {
    "collapsed": true,
    "ExecuteTime": {
     "end_time": "2024-07-15T18:29:52.926814Z",
     "start_time": "2024-07-15T18:29:52.826575Z"
    }
   },
   "source": [
    "from dotenv import load_dotenv\n",
    "load_dotenv()"
   ],
   "outputs": [
    {
     "data": {
      "text/plain": [
       "True"
      ]
     },
     "execution_count": 5,
     "metadata": {},
     "output_type": "execute_result"
    }
   ],
   "execution_count": 5
  },
  {
   "metadata": {},
   "cell_type": "markdown",
   "source": [
    "# 1. Loading models locally\n",
    "There is a quantized version (which we will use): 'TheBloke/Llama-2-70B-Chat-GGML'. The original version from this one is 'meta-llama/Llama-2-7b'. You need to get access first for that version."
   ],
   "id": "4bca2c4dc1264306"
  },
  {
   "metadata": {
    "ExecuteTime": {
     "end_time": "2024-07-15T19:30:36.346097Z",
     "start_time": "2024-07-15T19:30:33.384982Z"
    }
   },
   "cell_type": "code",
   "source": [
    "from langchain.llms import CTransformers\n",
    "\n",
    "llm = CTransformers(\n",
    "    model=\"models/llama-2-7b-chat.Q8_0.gguf\",  # TODO: Make sure that this model exists on your computer\n",
    "    model_type=\"llama\",\n",
    "    config={\n",
    "        \"max_new_tokens\": 256,\n",
    "        \"temperature\": 0.01\n",
    "    }\n",
    ")"
   ],
   "id": "958ecab7c6c4e8ee",
   "outputs": [],
   "execution_count": 12
  },
  {
   "metadata": {
    "ExecuteTime": {
     "end_time": "2024-07-15T19:31:11.989872Z",
     "start_time": "2024-07-15T19:30:37.173180Z"
    }
   },
   "cell_type": "code",
   "source": "llm.invoke(\"Hello, how are you doing, Llama-2?\")  # It takes a long time to answer on PC",
   "id": "90d86bc0db451f3d",
   "outputs": [
    {
     "name": "stderr",
     "output_type": "stream",
     "text": [
      "\n",
      "KeyboardInterrupt\n",
      "\n"
     ]
    }
   ],
   "execution_count": 13
  },
  {
   "metadata": {},
   "cell_type": "markdown",
   "source": [
    "# 2. Using other free HuggingFace models\n",
    "Huggingface pipeline is created by models and a tokenizer. You can use them seperately, or you can use them together by just creating one pipeline."
   ],
   "id": "b51bcf2da89f8c3f"
  },
  {
   "metadata": {
    "jupyter": {
     "is_executing": true
    },
    "ExecuteTime": {
     "start_time": "2024-07-15T20:10:50.616779Z"
    }
   },
   "cell_type": "code",
   "source": [
    "# Use a pipeline as a high-level helper\n",
    "from transformers import pipeline\n",
    "\n",
    "messages = [\n",
    "    {\"role\": \"user\", \"content\": \"Who are you?\"},\n",
    "]\n",
    "\n",
    "# Init the pipeline\n",
    "pipe = pipeline(\"text-generation\", model=\"microsoft/Phi-3-mini-4k-instruct\", trust_remote_code=True)  # It will take a while to download everything"
   ],
   "id": "720a6468cfb30504",
   "outputs": [
    {
     "name": "stderr",
     "output_type": "stream",
     "text": [
      "`flash-attention` package not found, consider installing for better performance: No module named 'flash_attn'.\n",
      "Current `flash-attention` does not support `window_size`. Either upgrade or use `attn_implementation='eager'`.\n"
     ]
    },
    {
     "data": {
      "text/plain": [
       "Loading checkpoint shards:   0%|          | 0/2 [00:00<?, ?it/s]"
      ],
      "application/vnd.jupyter.widget-view+json": {
       "version_major": 2,
       "version_minor": 0,
       "model_id": "bd4cb24d174142c087db65c45fb04c99"
      }
     },
     "metadata": {},
     "output_type": "display_data"
    }
   ],
   "execution_count": null
  },
  {
   "metadata": {
    "ExecuteTime": {
     "end_time": "2024-07-15T20:10:44.130468Z",
     "start_time": "2024-07-15T20:10:43.773132Z"
    }
   },
   "cell_type": "code",
   "source": [
    "# This is how you get an output\n",
    "pipe(messages)"
   ],
   "id": "e3a2c020aece3e6d",
   "outputs": [
    {
     "ename": "NameError",
     "evalue": "name 'pipe' is not defined",
     "output_type": "error",
     "traceback": [
      "\u001B[1;31m---------------------------------------------------------------------------\u001B[0m",
      "\u001B[1;31mNameError\u001B[0m                                 Traceback (most recent call last)",
      "Cell \u001B[1;32mIn[1], line 1\u001B[0m\n\u001B[1;32m----> 1\u001B[0m \u001B[43mpipe\u001B[49m(messages)\n",
      "\u001B[1;31mNameError\u001B[0m: name 'pipe' is not defined"
     ]
    }
   ],
   "execution_count": 1
  }
 ],
 "metadata": {
  "kernelspec": {
   "display_name": "Python 3",
   "language": "python",
   "name": "python3"
  },
  "language_info": {
   "codemirror_mode": {
    "name": "ipython",
    "version": 2
   },
   "file_extension": ".py",
   "mimetype": "text/x-python",
   "name": "python",
   "nbconvert_exporter": "python",
   "pygments_lexer": "ipython2",
   "version": "2.7.6"
  }
 },
 "nbformat": 4,
 "nbformat_minor": 5
}
