{
 "cells": [
  {
   "cell_type": "code",
   "id": "initial_id",
   "metadata": {
    "collapsed": true,
    "ExecuteTime": {
     "end_time": "2024-06-15T15:24:20.761292Z",
     "start_time": "2024-06-15T15:24:20.750292Z"
    }
   },
   "source": [
    "from dotenv import load_dotenv\n",
    "load_dotenv()\n",
    "from langchain_openai.embeddings import OpenAIEmbeddings\n",
    "# pip install openpyxl\n",
    "import pandas as pd\n",
    "import numpy as np\n",
    "from langchain.vectorstores import FAISS\n",
    "from langchain.document_loaders.csv_loader import CSVLoader\n",
    "import time"
   ],
   "outputs": [],
   "execution_count": 64
  },
  {
   "metadata": {
    "ExecuteTime": {
     "end_time": "2024-06-15T14:54:10.300520Z",
     "start_time": "2024-06-15T14:54:10.294492Z"
    }
   },
   "cell_type": "code",
   "source": [
    "# This can be a separate script 'utils.py'\n",
    "def cosine_similarity(a: list, b: list) -> float:\n",
    "    a = np.array(a) if isinstance(a, list) else a\n",
    "    b = np.array(b) if isinstance(b, list) else b\n",
    "    return np.dot(a, b) / (np.linalg.norm(a) * np.linalg.norm(b))"
   ],
   "id": "3fe0736c736e476d",
   "outputs": [],
   "execution_count": 28
  },
  {
   "metadata": {
    "ExecuteTime": {
     "end_time": "2024-06-15T15:10:19.330060Z",
     "start_time": "2024-06-15T15:10:18.588016Z"
    }
   },
   "cell_type": "code",
   "source": [
    "# Instantiate an embedding model\n",
    "embedding_model = OpenAIEmbeddings()"
   ],
   "id": "ecee459b98ecf964",
   "outputs": [],
   "execution_count": 58
  },
  {
   "metadata": {
    "ExecuteTime": {
     "end_time": "2024-06-15T15:10:55.808319Z",
     "start_time": "2024-06-15T15:10:53.365146Z"
    }
   },
   "cell_type": "code",
   "source": [
    "# Load the data (and embed it)\n",
    "df = pd.read_excel(\"myData.xlsx\")\n",
    "df['embedding'] = df['Words'].apply(lambda x: embedding_model.embed_query(x))\n",
    "df"
   ],
   "id": "4062708511018984",
   "outputs": [
    {
     "data": {
      "text/plain": [
       "        Words                                          embedding\n",
       "0    Elephant  [-0.018824968487024307, -0.008682483807206154,...\n",
       "1        Lion  [-0.0015009930357336998, -0.010024921968579292...\n",
       "2       Tiger  [-0.013500549830496311, -0.009651594795286655,...\n",
       "3         Dog  [-0.0008935772348195314, -0.015069474466145039...\n",
       "4     Cricket  [0.003957032226026058, -0.007208024617284536, ...\n",
       "5    Football  [0.003506750101223588, -0.011377162300050259, ...\n",
       "6  Basketball  [-0.012911115773022175, -0.013261756859719753,...\n",
       "7       Apple  [0.014532957226037979, -0.003988702315837145, ...\n",
       "8      Orange  [0.02082180231809616, -0.02937670238316059, 2....\n",
       "9      Banana  [-0.01310732588171959, -0.020157383754849434, ..."
      ],
      "text/html": [
       "<div>\n",
       "<style scoped>\n",
       "    .dataframe tbody tr th:only-of-type {\n",
       "        vertical-align: middle;\n",
       "    }\n",
       "\n",
       "    .dataframe tbody tr th {\n",
       "        vertical-align: top;\n",
       "    }\n",
       "\n",
       "    .dataframe thead th {\n",
       "        text-align: right;\n",
       "    }\n",
       "</style>\n",
       "<table border=\"1\" class=\"dataframe\">\n",
       "  <thead>\n",
       "    <tr style=\"text-align: right;\">\n",
       "      <th></th>\n",
       "      <th>Words</th>\n",
       "      <th>embedding</th>\n",
       "    </tr>\n",
       "  </thead>\n",
       "  <tbody>\n",
       "    <tr>\n",
       "      <th>0</th>\n",
       "      <td>Elephant</td>\n",
       "      <td>[-0.018824968487024307, -0.008682483807206154,...</td>\n",
       "    </tr>\n",
       "    <tr>\n",
       "      <th>1</th>\n",
       "      <td>Lion</td>\n",
       "      <td>[-0.0015009930357336998, -0.010024921968579292...</td>\n",
       "    </tr>\n",
       "    <tr>\n",
       "      <th>2</th>\n",
       "      <td>Tiger</td>\n",
       "      <td>[-0.013500549830496311, -0.009651594795286655,...</td>\n",
       "    </tr>\n",
       "    <tr>\n",
       "      <th>3</th>\n",
       "      <td>Dog</td>\n",
       "      <td>[-0.0008935772348195314, -0.015069474466145039...</td>\n",
       "    </tr>\n",
       "    <tr>\n",
       "      <th>4</th>\n",
       "      <td>Cricket</td>\n",
       "      <td>[0.003957032226026058, -0.007208024617284536, ...</td>\n",
       "    </tr>\n",
       "    <tr>\n",
       "      <th>5</th>\n",
       "      <td>Football</td>\n",
       "      <td>[0.003506750101223588, -0.011377162300050259, ...</td>\n",
       "    </tr>\n",
       "    <tr>\n",
       "      <th>6</th>\n",
       "      <td>Basketball</td>\n",
       "      <td>[-0.012911115773022175, -0.013261756859719753,...</td>\n",
       "    </tr>\n",
       "    <tr>\n",
       "      <th>7</th>\n",
       "      <td>Apple</td>\n",
       "      <td>[0.014532957226037979, -0.003988702315837145, ...</td>\n",
       "    </tr>\n",
       "    <tr>\n",
       "      <th>8</th>\n",
       "      <td>Orange</td>\n",
       "      <td>[0.02082180231809616, -0.02937670238316059, 2....</td>\n",
       "    </tr>\n",
       "    <tr>\n",
       "      <th>9</th>\n",
       "      <td>Banana</td>\n",
       "      <td>[-0.01310732588171959, -0.020157383754849434, ...</td>\n",
       "    </tr>\n",
       "  </tbody>\n",
       "</table>\n",
       "</div>"
      ]
     },
     "execution_count": 60,
     "metadata": {},
     "output_type": "execute_result"
    }
   ],
   "execution_count": 60
  },
  {
   "metadata": {
    "ExecuteTime": {
     "end_time": "2024-06-15T15:11:01.410528Z",
     "start_time": "2024-06-15T15:11:01.122195Z"
    }
   },
   "cell_type": "code",
   "source": [
    "# Try the search\n",
    "our_text = \"Cat\"\n",
    "text_embedding = embedding_model.embed_query(our_text)\n",
    "df['similarity_score'] = df['embedding'].apply(lambda x: cosine_similarity(x, text_embedding))\n",
    "df = df.sort_values('similarity_score', ascending=False)\n",
    "df"
   ],
   "id": "be59d932118ec323",
   "outputs": [
    {
     "data": {
      "text/plain": [
       "        Words                                          embedding  \\\n",
       "3         Dog  [-0.0008935772348195314, -0.015069474466145039...   \n",
       "2       Tiger  [-0.013500549830496311, -0.009651594795286655,...   \n",
       "1        Lion  [-0.0015009930357336998, -0.010024921968579292...   \n",
       "7       Apple  [0.014532957226037979, -0.003988702315837145, ...   \n",
       "0    Elephant  [-0.018824968487024307, -0.008682483807206154,...   \n",
       "8      Orange  [0.02082180231809616, -0.02937670238316059, 2....   \n",
       "9      Banana  [-0.01310732588171959, -0.020157383754849434, ...   \n",
       "5    Football  [0.003506750101223588, -0.011377162300050259, ...   \n",
       "4     Cricket  [0.003957032226026058, -0.007208024617284536, ...   \n",
       "6  Basketball  [-0.012911115773022175, -0.013261756859719753,...   \n",
       "\n",
       "   similarity_score  \n",
       "3          0.878559  \n",
       "2          0.846970  \n",
       "1          0.840089  \n",
       "7          0.833735  \n",
       "0          0.819722  \n",
       "8          0.811868  \n",
       "9          0.806824  \n",
       "5          0.805747  \n",
       "4          0.795493  \n",
       "6          0.784980  "
      ],
      "text/html": [
       "<div>\n",
       "<style scoped>\n",
       "    .dataframe tbody tr th:only-of-type {\n",
       "        vertical-align: middle;\n",
       "    }\n",
       "\n",
       "    .dataframe tbody tr th {\n",
       "        vertical-align: top;\n",
       "    }\n",
       "\n",
       "    .dataframe thead th {\n",
       "        text-align: right;\n",
       "    }\n",
       "</style>\n",
       "<table border=\"1\" class=\"dataframe\">\n",
       "  <thead>\n",
       "    <tr style=\"text-align: right;\">\n",
       "      <th></th>\n",
       "      <th>Words</th>\n",
       "      <th>embedding</th>\n",
       "      <th>similarity_score</th>\n",
       "    </tr>\n",
       "  </thead>\n",
       "  <tbody>\n",
       "    <tr>\n",
       "      <th>3</th>\n",
       "      <td>Dog</td>\n",
       "      <td>[-0.0008935772348195314, -0.015069474466145039...</td>\n",
       "      <td>0.878559</td>\n",
       "    </tr>\n",
       "    <tr>\n",
       "      <th>2</th>\n",
       "      <td>Tiger</td>\n",
       "      <td>[-0.013500549830496311, -0.009651594795286655,...</td>\n",
       "      <td>0.846970</td>\n",
       "    </tr>\n",
       "    <tr>\n",
       "      <th>1</th>\n",
       "      <td>Lion</td>\n",
       "      <td>[-0.0015009930357336998, -0.010024921968579292...</td>\n",
       "      <td>0.840089</td>\n",
       "    </tr>\n",
       "    <tr>\n",
       "      <th>7</th>\n",
       "      <td>Apple</td>\n",
       "      <td>[0.014532957226037979, -0.003988702315837145, ...</td>\n",
       "      <td>0.833735</td>\n",
       "    </tr>\n",
       "    <tr>\n",
       "      <th>0</th>\n",
       "      <td>Elephant</td>\n",
       "      <td>[-0.018824968487024307, -0.008682483807206154,...</td>\n",
       "      <td>0.819722</td>\n",
       "    </tr>\n",
       "    <tr>\n",
       "      <th>8</th>\n",
       "      <td>Orange</td>\n",
       "      <td>[0.02082180231809616, -0.02937670238316059, 2....</td>\n",
       "      <td>0.811868</td>\n",
       "    </tr>\n",
       "    <tr>\n",
       "      <th>9</th>\n",
       "      <td>Banana</td>\n",
       "      <td>[-0.01310732588171959, -0.020157383754849434, ...</td>\n",
       "      <td>0.806824</td>\n",
       "    </tr>\n",
       "    <tr>\n",
       "      <th>5</th>\n",
       "      <td>Football</td>\n",
       "      <td>[0.003506750101223588, -0.011377162300050259, ...</td>\n",
       "      <td>0.805747</td>\n",
       "    </tr>\n",
       "    <tr>\n",
       "      <th>4</th>\n",
       "      <td>Cricket</td>\n",
       "      <td>[0.003957032226026058, -0.007208024617284536, ...</td>\n",
       "      <td>0.795493</td>\n",
       "    </tr>\n",
       "    <tr>\n",
       "      <th>6</th>\n",
       "      <td>Basketball</td>\n",
       "      <td>[-0.012911115773022175, -0.013261756859719753,...</td>\n",
       "      <td>0.784980</td>\n",
       "    </tr>\n",
       "  </tbody>\n",
       "</table>\n",
       "</div>"
      ]
     },
     "execution_count": 61,
     "metadata": {},
     "output_type": "execute_result"
    }
   ],
   "execution_count": 61
  },
  {
   "metadata": {
    "ExecuteTime": {
     "end_time": "2024-06-15T15:29:02.224944Z",
     "start_time": "2024-06-15T15:29:01.490703Z"
    }
   },
   "cell_type": "code",
   "source": [
    "# Using FAISS for this\n",
    "loader = CSVLoader(file_path=\"myData.csv\", csv_args={'delimiter': ',', 'quotechar': '\"', 'fieldnames': ['Words']})\n",
    "data = loader.load()\n",
    "db = FAISS.from_documents(data, embedding_model)\n",
    "db.similarity_search_with_score(\"Mango\")[0]"
   ],
   "id": "7c403455f684ce75",
   "outputs": [
    {
     "data": {
      "text/plain": [
       "(Document(page_content='Words: Banana', metadata={'source': 'myData.csv', 'row': 10}),\n",
       " 0.30739564)"
      ]
     },
     "execution_count": 70,
     "metadata": {},
     "output_type": "execute_result"
    }
   ],
   "execution_count": 70
  },
  {
   "metadata": {
    "ExecuteTime": {
     "end_time": "2024-06-15T15:05:57.176496Z",
     "start_time": "2024-06-15T15:05:57.162501Z"
    }
   },
   "cell_type": "code",
   "source": "",
   "id": "956dbb6215905583",
   "outputs": [],
   "execution_count": 51
  },
  {
   "metadata": {},
   "cell_type": "code",
   "outputs": [],
   "execution_count": null,
   "source": "",
   "id": "3a2d9741aa6f54a3"
  }
 ],
 "metadata": {
  "kernelspec": {
   "display_name": "Python 3",
   "language": "python",
   "name": "python3"
  },
  "language_info": {
   "codemirror_mode": {
    "name": "ipython",
    "version": 2
   },
   "file_extension": ".py",
   "mimetype": "text/x-python",
   "name": "python",
   "nbconvert_exporter": "python",
   "pygments_lexer": "ipython2",
   "version": "2.7.6"
  }
 },
 "nbformat": 4,
 "nbformat_minor": 5
}
