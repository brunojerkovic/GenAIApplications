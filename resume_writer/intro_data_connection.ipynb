{
 "cells": [
  {
   "metadata": {},
   "cell_type": "markdown",
   "source": [
    "# Data Connections Pipeline\n",
    "source -> load -> transform -> embed -> store (and then later retrieve)"
   ],
   "id": "ad8afdea2c701289"
  },
  {
   "metadata": {},
   "cell_type": "markdown",
   "source": "# Loading Libraries\n",
   "id": "d006d26b2ae84835"
  },
  {
   "metadata": {
    "ExecuteTime": {
     "end_time": "2024-06-22T09:41:11.929189Z",
     "start_time": "2024-06-22T09:41:11.916191Z"
    }
   },
   "cell_type": "code",
   "source": [
    "# !pip install chromadb\n",
    "# !pip install sentence_transformers"
   ],
   "id": "6ebb38a34666794d",
   "execution_count": 2,
   "outputs": []
  },
  {
   "metadata": {
    "ExecuteTime": {
     "end_time": "2024-06-22T10:07:45.727278Z",
     "start_time": "2024-06-22T10:07:44.328601Z"
    }
   },
   "cell_type": "code",
   "source": [
    "from langchain.document_loaders import TextLoader\n",
    "from langchain.text_splitter import CharacterTextSplitter\n",
    "# from langchain.embeddings import OpenAIEmbeddings  # THESE COULD ALSO BE USED\n",
    "from langchain.vectorstores import Chroma\n",
    "from langchain.chains import RetrievalQA\n",
    "from langchain_huggingface import HuggingFaceEmbeddings\n",
    "from dotenv import load_dotenv\n",
    "load_dotenv()"
   ],
   "id": "1ab734602c8f9705",
   "execution_count": 1,
   "outputs": []
  },
  {
   "metadata": {},
   "cell_type": "markdown",
   "source": [
    "## 1. Document Loader\n",
    "We will load the documents here. If you want to load more, just add them in the list. After all, *documents* object that you see below is simply a **Python list**."
   ],
   "id": "ea772c68eab4499d"
  },
  {
   "metadata": {
    "ExecuteTime": {
     "end_time": "2024-06-22T10:25:34.262829Z",
     "start_time": "2024-06-22T10:25:34.250827Z"
    }
   },
   "cell_type": "code",
   "source": [
    "loader = TextLoader(\"Sample.txt\")\n",
    "documents = loader.load()\n",
    "len(documents), type(documents)"
   ],
   "id": "e7dd617e6921c000",
   "execution_count": 40,
   "outputs": []
  },
  {
   "metadata": {},
   "cell_type": "markdown",
   "source": [
    "## 2. Document Transformer\n",
    "We will split the documents into chunks here"
   ],
   "id": "8a86d3b5113423ea"
  },
  {
   "metadata": {
    "ExecuteTime": {
     "end_time": "2024-06-22T10:07:47.033279Z",
     "start_time": "2024-06-22T10:07:47.023264Z"
    }
   },
   "cell_type": "code",
   "source": [
    "# Split the document into chunks\n",
    "text_splitter = CharacterTextSplitter(chunk_size=1_000, chunk_overlap=0)\n",
    "texts = text_splitter.split_documents(documents)\n",
    "print(\"Number of chunks: \", len(texts))\n",
    "print(\"Example of one document (chunk): \", texts[0])\n",
    "\n",
    "# Add more metadata to the document (can be used to combine vector search with keyword search)\n",
    "author_name = \"Bruno\"\n",
    "for text in (texts):\n",
    "    text.metadata['author'] = author_name\n",
    "    text.metadata['starts_with_india'] = True if text.page_content.lower().startswith(\"india\") else False\n",
    "print(\"Number of documents (chunks): \", len(texts))\n",
    "print(\"Example of one document (chunk): \", texts[0])"
   ],
   "id": "20507bc9d5864faa",
   "execution_count": 3,
   "outputs": []
  },
  {
   "metadata": {},
   "cell_type": "markdown",
   "source": [
    "## 3. Data Embedding\n",
    "We will only instantiate the embedder here, so that we can later use it for our Chroma vector database."
   ],
   "id": "25027fa48e3df28a"
  },
  {
   "metadata": {
    "ExecuteTime": {
     "end_time": "2024-06-22T10:07:55.319021Z",
     "start_time": "2024-06-22T10:07:48.098249Z"
    }
   },
   "cell_type": "code",
   "source": "embedding_model = HuggingFaceEmbeddings(model_name=\"all-MiniLM-L6-v2\")",
   "id": "5ef1d0640273a713",
   "execution_count": 4,
   "outputs": []
  },
  {
   "metadata": {},
   "cell_type": "markdown",
   "source": [
    "## 4. Vector Database\n",
    "Here, we will use ChromaDB, but we can also use other Vector Databases."
   ],
   "id": "918e71c777374a70"
  },
  {
   "metadata": {
    "ExecuteTime": {
     "end_time": "2024-06-22T10:07:58.863996Z",
     "start_time": "2024-06-22T10:07:55.320970Z"
    }
   },
   "cell_type": "code",
   "source": [
    "db = Chroma.from_documents(texts, embedding_model)\n",
    "print(len(db), \"(It should be the same as the number of chunks from above)\")\n",
    "# db._collection.get(include=[\"embeddings\"])  # To have a look at the embeddings created"
   ],
   "id": "30d45779b9e4e500",
   "execution_count": 5,
   "outputs": []
  },
  {
   "metadata": {},
   "cell_type": "markdown",
   "source": [
    "## 5. Retrieval\n",
    "Used to specify how many documents (*k*) you want to retrieve by using the *search_method* function. The functions are: *cosine_similarity*, *euclidian_distance*, ...\n",
    "\n",
    "- By default, use *cosine_similarity*. It is more scalable and better if your database has higher dimensional representations.\n",
    "- Only for lower dimensional vector representation, use *euclidian_distance*"
   ],
   "id": "1c4c5dd46fde1ce0"
  },
  {
   "metadata": {
    "ExecuteTime": {
     "end_time": "2024-06-22T10:13:19.319275Z",
     "start_time": "2024-06-22T10:13:19.298236Z"
    }
   },
   "cell_type": "code",
   "source": [
    "# Let's first specify a simple retriever\n",
    "retriever_simple = db.as_retriever(search_kwargs={\"k\": 1}, search_method=\"euclidian_distance\")\n",
    "\n",
    "# Now, let's specify a more complex retrieval including also the metadata\n",
    "filter_criteria = {\n",
    "    \"starts_with_india\": True,\n",
    "}  # IF YOU WANT TO HAVE ONLY 1 FILTER CRITERIA\n",
    "filter_criteria = {\n",
    "    \"$and\": [\n",
    "        {\"starts_with_india\": True},\n",
    "        {\"author\": \"Bruno\"}\n",
    "    ]\n",
    "}  # IF YOU WANT TO HAVE MULTIPLE FILTER CRITERIAs\n",
    "retriever_complex = db.as_retriever(search_kwargs={\"k\": 2, \"filter\": filter_criteria}, \n",
    "                                    search_method=\"cosine_similarity\")"
   ],
   "id": "69a26116f4e31cd2",
   "execution_count": 36,
   "outputs": []
  },
  {
   "metadata": {},
   "cell_type": "markdown",
   "source": [
    "# Questions to test the DB\n",
    "This will return *k* (where k is the number from above; the number of documents you want your query to retrieve) documents. Using this it only does search on the vector database; no LLM needed."
   ],
   "id": "fa9c62e53a267233"
  },
  {
   "metadata": {
    "ExecuteTime": {
     "end_time": "2024-06-22T10:13:20.541359Z",
     "start_time": "2024-06-22T10:13:20.501359Z"
    }
   },
   "cell_type": "code",
   "source": "retriever_simple.invoke(\"What is the capital of india?\")",
   "id": "c337f429bf37ffa3",
   "execution_count": 37,
   "outputs": []
  },
  {
   "metadata": {
    "ExecuteTime": {
     "end_time": "2024-06-22T10:13:20.716357Z",
     "start_time": "2024-06-22T10:13:20.680359Z"
    }
   },
   "cell_type": "code",
   "source": "retriever_simple.invoke(\"What is the currency of India?\")",
   "id": "b8ad1a75c610c3c4",
   "execution_count": 38,
   "outputs": []
  },
  {
   "metadata": {
    "ExecuteTime": {
     "end_time": "2024-06-22T10:13:20.872357Z",
     "start_time": "2024-06-22T10:13:20.832358Z"
    }
   },
   "cell_type": "code",
   "source": "retriever_complex.invoke(\"What is the currency of india?\")",
   "id": "3eed84c040a95876",
   "execution_count": 39,
   "outputs": []
  },
  {
   "metadata": {},
   "cell_type": "code",
   "execution_count": null,
   "source": "",
   "id": "f6ae51c2741ac515",
   "outputs": []
  }
 ],
 "metadata": {
  "kernelspec": {
   "display_name": "Python 3",
   "language": "python",
   "name": "python3"
  },
  "language_info": {
   "codemirror_mode": {
    "name": "ipython",
    "version": 2
   },
   "file_extension": ".py",
   "mimetype": "text/x-python",
   "name": "python",
   "nbconvert_exporter": "python",
   "pygments_lexer": "ipython2",
   "version": "2.7.6"
  }
 },
 "nbformat": 4,
 "nbformat_minor": 5
}
