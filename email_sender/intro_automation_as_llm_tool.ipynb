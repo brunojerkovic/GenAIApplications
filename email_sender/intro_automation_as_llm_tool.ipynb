{
 "cells": [
  {
   "cell_type": "code",
   "id": "initial_id",
   "metadata": {
    "collapsed": true,
    "ExecuteTime": {
     "end_time": "2024-07-17T13:45:24.316282Z",
     "start_time": "2024-07-17T13:45:24.276752Z"
    }
   },
   "source": [
    "from langchain.prompts import PromptTemplate\n",
    "from openai import OpenAI\n",
    "from langchain_openai import ChatOpenAI\n",
    "from langchain_community.utilities import ZapierNLAWrapper\n",
    "from langchain_community.agent_toolkits import ZapierToolkit\n",
    "from langchain.agents import create_react_agent, AgentExecutor\n",
    "from langchain import hub\n",
    "from dotenv import load_dotenv\n",
    "load_dotenv()"
   ],
   "outputs": [
    {
     "data": {
      "text/plain": [
       "True"
      ]
     },
     "execution_count": 4,
     "metadata": {},
     "output_type": "execute_result"
    }
   ],
   "execution_count": 4
  },
  {
   "metadata": {},
   "cell_type": "markdown",
   "source": [
    "# 1. Using Automation as LLM Tool: Zapier\n",
    "There are other automation providers. This is an overview:\n",
    "- Use **Zapier** for ease of use and extensive app integrations.\n",
    "- Use **Integromat (Make)** for advanced, detailed workflows with a visual editor.\n",
    "- Use **Microsoft Power Automate** if you are embedded in the Microsoft ecosystem and need RPA.\n",
    "- Use **IFTTT** for simple, personal, and smart home automations.\n",
    "- Use **Tray.io** for enterprise-grade, complex automation needs.\n",
    "- Use **Automate.io** for straightforward business process automation.\n",
    "- Use **Workato** for secure, scalable, and real-time enterprise automation.\n",
    "- Use **n8n** for open-source flexibility and custom workflows.\n",
    "- Use **Pabbly Connect** for cost-effective, unlimited automation options.\n",
    "- Use **Ansible** for IT and DevOps automation, including infrastructure provisioning, configuration management, and application deployment."
   ],
   "id": "216dceb6ccf79b35"
  },
  {
   "metadata": {},
   "cell_type": "markdown",
   "source": "Here is how to use Zapier as an LLM tool (with langchain's wrapper). For a more detailed explanation, check the files *app.py* (for UI) and *prompt_generation.py*",
   "id": "5071204194b8813"
  },
  {
   "metadata": {
    "ExecuteTime": {
     "end_time": "2024-07-17T13:45:30.174141Z",
     "start_time": "2024-07-17T13:45:27.985026Z"
    }
   },
   "cell_type": "code",
   "source": [
    "# Model-related instantiations\n",
    "llm = ChatOpenAI(temperature=1., model_name=\"gpt-4o\")\n",
    "\n",
    "# Get the tools\n",
    "zapier = ZapierNLAWrapper()\n",
    "toolkit = ZapierToolkit.from_zapier_nla_wrapper(zapier)\n",
    "tools = toolkit.tools\n",
    "\n",
    "# Initialize agent\n",
    "prompt = hub.pull(\"hwchase17/react\")\n",
    "agent = create_react_agent(llm, tools, prompt)\n",
    "agent_executor = AgentExecutor(agent=agent, tools=tools, verbose=True)\n",
    "\n",
    "# Init whisper\n",
    "model_whisper_client = OpenAI()\n",
    "\n",
    "# Define the prompt template\n",
    "prompt_template = PromptTemplate(\n",
    "    template=\"\"\"\n",
    "        Send an email to {receiver} via gmail summarizing the following text: '''{text}'''\n",
    "    \"\"\",\n",
    "    input_variables=[\"receiver\", \"text\"]\n",
    ")\n",
    "\n",
    "\n",
    "def send_email(self, file_voice, receiver_email: str) -> None:\n",
    "    # Transcribe file\n",
    "    text = model_whisper_client.audio.transcriptions.create(\n",
    "        model=\"whisper-1\",\n",
    "        file=file_voice\n",
    "    ).text\n",
    "\n",
    "    # Send email using zapier\n",
    "    self.agent_executor.invoke({\"input\": self.prompt_template.format(receiver=receiver_email, text=text)})"
   ],
   "id": "bef2199a4bc9e075",
   "outputs": [],
   "execution_count": 5
  },
  {
   "metadata": {
    "ExecuteTime": {
     "end_time": "2024-07-17T13:35:25.908015Z",
     "start_time": "2024-07-17T13:35:25.898013Z"
    }
   },
   "cell_type": "code",
   "source": "# here you can use 'send_mail' if you have receiver_email and file_voice",
   "id": "d1e2c7e81d502d20",
   "outputs": [],
   "execution_count": 2
  },
  {
   "metadata": {},
   "cell_type": "code",
   "outputs": [],
   "execution_count": null,
   "source": "",
   "id": "e99c55b78bf0253a"
  }
 ],
 "metadata": {
  "kernelspec": {
   "display_name": "Python 3",
   "language": "python",
   "name": "python3"
  },
  "language_info": {
   "codemirror_mode": {
    "name": "ipython",
    "version": 2
   },
   "file_extension": ".py",
   "mimetype": "text/x-python",
   "name": "python",
   "nbconvert_exporter": "python",
   "pygments_lexer": "ipython2",
   "version": "2.7.6"
  }
 },
 "nbformat": 4,
 "nbformat_minor": 5
}
